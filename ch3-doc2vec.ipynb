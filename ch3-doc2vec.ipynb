{
 "cells": [
  {
   "cell_type": "code",
   "execution_count": 1,
   "metadata": {},
   "outputs": [],
   "source": [
    "from gensim.utils import simple_preprocess\n",
    "from gensim.models.doc2vec import TaggedDocument\n",
    " \n",
    "def read_corpus(file_path):\n",
    "    with open(file_path) as f:\n",
    "        for i, line in enumerate(f):\n",
    "            yield TaggedDocument(simple_preprocess(line), [i])"
   ]
  },
  {
   "cell_type": "code",
   "execution_count": 3,
   "metadata": {},
   "outputs": [
    {
     "name": "stdout",
     "output_type": "stream",
     "text": [
      "0.62 ['heard', 'the', 'song', 'sung', 'in', 'french']\n",
      "0.61 ['heard', 'jill', 'play', 'the', 'piano']\n",
      "0.61 ['he', 'writes', 'to', 'me', 'once', 'in', 'while']\n",
      "0.61 ['tom', 'heard', 'the', 'front', 'door', 'slam']\n",
      "0.60 ['she', 'heard', 'him', 'sing', 'his', 'favorite', 'song']\n",
      "0.60 ['heard', 'dog', 'barking', 'in', 'the', 'distance']\n",
      "0.60 ['she', 'heard', 'dog', 'barking', 'in', 'the', 'distance']\n",
      "0.59 ['tom', 'couldn', 'make', 'himself', 'heard']\n",
      "0.58 ['tom', 'heard', 'the', 'door', 'open']\n",
      "0.58 ['the', 'baby', 'is', 'sleeping', 'in', 'the', 'cradle']\n"
     ]
    },
    {
     "name": "stderr",
     "output_type": "stream",
     "text": [
      "/tmp/ipykernel_2218/329651415.py:12: DeprecationWarning: Call to deprecated `docvecs` (The `docvecs` property has been renamed `dv`.).\n",
      "  sims = model.docvecs.most_similar([query_vec], topn=10)\n"
     ]
    }
   ],
   "source": [
    "from gensim.models.doc2vec import Doc2Vec\n",
    "    \n",
    "train_set = list(read_corpus('data/sentences.eng.200k.txt'))\n",
    "model = Doc2Vec(vector_size=256, min_count=3, epochs=30)\n",
    "model.build_vocab(train_set)\n",
    "model.train(train_set,\n",
    "            total_examples=model.corpus_count,\n",
    "            epochs=model.epochs)\n"
   ]
  },
  {
   "cell_type": "code",
   "execution_count": 4,
   "metadata": {},
   "outputs": [
    {
     "name": "stdout",
     "output_type": "stream",
     "text": [
      "0.66 ['she', 'heard', 'dog', 'barking', 'in', 'the', 'distance']\n",
      "0.61 ['we', 'heard', 'tigers', 'roaring', 'in', 'the', 'distance']\n",
      "0.60 ['heard', 'the', 'song', 'sung', 'in', 'french']\n",
      "0.60 ['heard', 'dog', 'barking', 'in', 'the', 'distance']\n",
      "0.59 ['heard', 'jill', 'play', 'the', 'piano']\n",
      "0.59 ['saw', 'flashes', 'of', 'lightning', 'in', 'the', 'distance']\n",
      "0.58 ['tom', 'heard', 'the', 'front', 'door', 'slam']\n",
      "0.58 ['tom', 'couldn', 'make', 'himself', 'heard']\n",
      "0.57 ['she', 'heard', 'him', 'sing', 'his', 'favorite', 'song']\n",
      "0.56 ['we', 'saw', 'the', 'tower', 'in', 'the', 'distance']\n"
     ]
    }
   ],
   "source": [
    "query_vec = model.infer_vector(\n",
    "    ['i', 'heard', 'a', 'dog', 'barking', 'in', 'the', 'distance'])\n",
    "sims = model.dv.most_similar([query_vec], topn=10)\n",
    "for doc_id, sim in sims:\n",
    "    print('{:3.2f} {}'.format(sim, train_set[doc_id].words))"
   ]
  },
  {
   "cell_type": "code",
   "execution_count": null,
   "metadata": {},
   "outputs": [],
   "source": []
  }
 ],
 "metadata": {
  "interpreter": {
   "hash": "949777d72b0d2535278d3dc13498b2535136f6dfe0678499012e853ee9abcab1"
  },
  "kernelspec": {
   "display_name": "Python 3.9.9 64-bit",
   "language": "python",
   "name": "python3"
  },
  "language_info": {
   "codemirror_mode": {
    "name": "ipython",
    "version": 3
   },
   "file_extension": ".py",
   "mimetype": "text/x-python",
   "name": "python",
   "nbconvert_exporter": "python",
   "pygments_lexer": "ipython3",
   "version": "3.9.9"
  },
  "orig_nbformat": 4
 },
 "nbformat": 4,
 "nbformat_minor": 2
}
